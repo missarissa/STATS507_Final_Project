{
 "cells": [
  {
   "cell_type": "markdown",
   "id": "b340aa3f-cbe4-442b-bb49-41f59d3f8f0c",
   "metadata": {},
   "source": [
    "# Full Model Data Analysis"
   ]
  },
  {
   "cell_type": "code",
   "execution_count": 2,
   "id": "f4488175-b592-4bd3-92ec-3c6ebfa22056",
   "metadata": {},
   "outputs": [],
   "source": [
    "import pandas as pd\n",
    "import numpy as np"
   ]
  },
  {
   "cell_type": "code",
   "execution_count": 71,
   "id": "3e06c6e6-064e-40d2-8bc5-268bfd44e318",
   "metadata": {},
   "outputs": [],
   "source": [
    "# Read in the saved csv of the predictions for 4000 obs.\n",
    "df = pd.read_csv('conclusion_data.csv')"
   ]
  },
  {
   "cell_type": "code",
   "execution_count": 73,
   "id": "16c180fd-a35f-41b1-a440-738a5595a8b5",
   "metadata": {},
   "outputs": [],
   "source": [
    "# Separate the model predictions into their own columns\n",
    "df['Model Predictions'] = df['Model Predictions'].apply(lambda x: \n",
    "                                                        eval(x) if isinstance(x, str) else x)\n",
    "\n",
    "df[['SVM Pred', 'BERT Pred', 'LinReg Pred']] = pd.DataFrame(df[\"Model Predictions\"].to_list(),\n",
    "                                                           index = df.index)"
   ]
  },
  {
   "cell_type": "code",
   "execution_count": 75,
   "id": "02235661-3c7e-42e6-8669-714bc086f193",
   "metadata": {},
   "outputs": [],
   "source": [
    "# Remove the column where all of the predictions were combined\n",
    "df.drop(columns=['Model Predictions'], inplace=True)"
   ]
  },
  {
   "cell_type": "markdown",
   "id": "147693db-0803-4d37-b7fe-3bfac0c24f02",
   "metadata": {},
   "source": [
    "### Prediction Accuracies"
   ]
  },
  {
   "cell_type": "code",
   "execution_count": 113,
   "id": "3752e530-a4c5-432b-81b7-31dfc20d43cc",
   "metadata": {},
   "outputs": [
    {
     "data": {
      "text/plain": [
       "0.91275"
      ]
     },
     "execution_count": 113,
     "metadata": {},
     "output_type": "execute_result"
    }
   ],
   "source": [
    "# Find the accuracy of the entire prediciton function overall\n",
    "accurate = df['Accurate (T/F)'].value_counts()[True]\n",
    "accurate / 4000"
   ]
  },
  {
   "cell_type": "code",
   "execution_count": 189,
   "id": "e3339813-21c8-4bdd-b8b1-199ae59668dd",
   "metadata": {},
   "outputs": [
    {
     "name": "stdout",
     "output_type": "stream",
     "text": [
      "SVM: 0.8735\n",
      "BERT: 0.951\n",
      "LinReg: 0.89\n"
     ]
    }
   ],
   "source": [
    "# Find the accuracy for each individual model in the function\n",
    "total = len(df[\"Real Label\"])\n",
    "\n",
    "svm_accurate_count = (df['Real Label'] == df['SVM Pred']).sum()\n",
    "\n",
    "bert_accurate_count = (df['Real Label'] == df['BERT Pred']).sum()\n",
    "\n",
    "lg_accurate_count = (df['Real Label'] == df['LinReg Pred']).sum()\n",
    "\n",
    "svm_accuracy = svm_accurate_count / total\n",
    "\n",
    "bert_accuracy = bert_accurate_count / total\n",
    "\n",
    "lg_accuracy = lg_accurate_count / total\n",
    "\n",
    "print(\"SVM:\", svm_accuracy)\n",
    "print(\"BERT:\", bert_accuracy)\n",
    "print(\"LinReg:\", lg_accuracy)"
   ]
  },
  {
   "cell_type": "code",
   "execution_count": 212,
   "id": "c3ba4768-cdc5-405d-939c-6a4687a45d3a",
   "metadata": {},
   "outputs": [
    {
     "name": "stdout",
     "output_type": "stream",
     "text": [
      "BERT Wrong: 60\n",
      "SVM Wrong: 174\n",
      "LinReg Wrong: 107\n"
     ]
    }
   ],
   "source": [
    "''' Here we are analyzing the number of cases where one prediction was wrong,\n",
    "but the other two predictions were right. We want to see this as the other two being right\n",
    "saved the bad prediction from the one that was wrong.'''\n",
    "\n",
    "condition1 = ((df['BERT Pred'] != df['Real Label']) & \n",
    "            (df['SVM Pred'] == df['Real Label']) & \n",
    "            (df['LinReg Pred'] == df['Real Label']))\n",
    "\n",
    "condition2 = ((df['BERT Pred'] == df['Real Label']) & \n",
    "            (df['SVM Pred'] != df['Real Label']) & \n",
    "            (df['LinReg Pred'] == df['Real Label']))\n",
    "\n",
    "condition3 = ((df['BERT Pred'] == df['Real Label']) & \n",
    "            (df['SVM Pred'] == df['Real Label']) & \n",
    "            (df['LinReg Pred'] != df['Real Label']))\n",
    "\n",
    "total_preds_saved = condition1.sum() + condition2.sum() + condition3.sum()\n",
    "\n",
    "print(\"BERT Wrong:\", condition1.sum())\n",
    "print(\"SVM Wrong:\", condition2.sum())\n",
    "print(\"LinReg Wrong:\", condition3.sum())"
   ]
  },
  {
   "cell_type": "code",
   "execution_count": 214,
   "id": "d4d5b588-be67-4c15-b7e6-a81851575d75",
   "metadata": {},
   "outputs": [
    {
     "name": "stdout",
     "output_type": "stream",
     "text": [
      "8.525% predictions saved when one was wrong\n",
      "1.5% predictions saved by SVM and LinReg\n",
      "4.35% predictions saved by BERT and LinReg\n",
      "2.675% predictions saved by BERT and SVM\n"
     ]
    }
   ],
   "source": [
    "# Percentages for the above conditions\n",
    "print(str((total_preds_saved / 4000) * 100) + '% predictions saved when one was wrong')\n",
    "print(str((condition1.sum() / 4000) * 100) + '% predictions saved by SVM and LinReg')\n",
    "print(str((condition2.sum() / 4000) * 100) + '% predictions saved by BERT and LinReg')\n",
    "print(str((condition3.sum() / 4000) * 100) + '% predictions saved by BERT and SVM')"
   ]
  },
  {
   "cell_type": "markdown",
   "id": "e995b210-93ef-4c8c-b963-cf6b2c5624cf",
   "metadata": {},
   "source": [
    "#### Analyze where one prediction is right but the other's are wrong"
   ]
  },
  {
   "cell_type": "code",
   "execution_count": 223,
   "id": "9f0be415-1db4-4bde-9d23-def936b283f8",
   "metadata": {},
   "outputs": [
    {
     "name": "stdout",
     "output_type": "stream",
     "text": [
      "BERT Right: 213\n",
      "SVM Right: 17\n",
      "LinReg Right: 16\n"
     ]
    }
   ],
   "source": [
    "'''Here we want the number of obs where one model was right but the\n",
    "other two models overpowered the model and ultimately made the wrong \n",
    "prediction.'''\n",
    "\n",
    "condition4 = ((df['BERT Pred'] == df['Real Label']) & \n",
    "            (df['SVM Pred'] != df['Real Label']) & \n",
    "            (df['LinReg Pred'] != df['Real Label']))\n",
    "\n",
    "condition5 = ((df['BERT Pred'] != df['Real Label']) & \n",
    "            (df['SVM Pred'] == df['Real Label']) & \n",
    "            (df['LinReg Pred'] != df['Real Label']))\n",
    "\n",
    "condition6 = ((df['BERT Pred'] != df['Real Label']) & \n",
    "            (df['SVM Pred'] != df['Real Label']) & \n",
    "            (df['LinReg Pred'] == df['Real Label']))\n",
    "\n",
    "total_preds_lost = condition4.sum() + condition5.sum() + condition6.sum()\n",
    "\n",
    "print(\"BERT Right:\", condition4.sum())\n",
    "print(\"SVM Right:\", condition5.sum())\n",
    "print(\"LinReg Right:\", condition6.sum())"
   ]
  },
  {
   "cell_type": "code",
   "execution_count": 225,
   "id": "7e086627-2725-4cf0-a2e8-058b6a63328b",
   "metadata": {},
   "outputs": [
    {
     "name": "stdout",
     "output_type": "stream",
     "text": [
      "6.15% predictions lost, when one was right\n",
      "5.325% predictions lost by SVM and LinReg\n",
      "0.42500000000000004% predictions lost by BERT and LinReg\n",
      "0.4% predictions lost by BERT and SVM\n"
     ]
    }
   ],
   "source": [
    "# Percentages for the above conditions\n",
    "print(str((total_preds_lost / 4000) * 100) + '% predictions lost, when one was right')\n",
    "print(str((condition4.sum() / 4000) * 100) + '% predictions lost by SVM and LinReg')\n",
    "print(str((condition5.sum() / 4000) * 100) + '% predictions lost by BERT and LinReg')\n",
    "print(str((condition6.sum() / 4000) * 100) + '% predictions lost by BERT and SVM')"
   ]
  },
  {
   "cell_type": "code",
   "execution_count": 235,
   "id": "315e07e5-3664-47aa-b3a6-0be565d714ed",
   "metadata": {},
   "outputs": [
    {
     "data": {
      "image/png": "[encoded data removed]",
      "text/plain": [
       "<Figure size 600x400 with 1 Axes>"
      ]
     },
     "metadata": {},
     "output_type": "display_data"
    },
    {
     "data": {
      "image/png": "[encoded data removed]",
      "text/plain": [
       "<Figure size 600x400 with 1 Axes>"
      ]
     },
     "metadata": {},
     "output_type": "display_data"
    },
    {
     "data": {
      "image/png": "[encoded data removed]",
      "text/plain": [
       "<Figure size 600x400 with 1 Axes>"
      ]
     },
     "metadata": {},
     "output_type": "display_data"
    }
   ],
   "source": [
    "from sklearn.metrics import confusion_matrix\n",
    "import matplotlib.pyplot as plt\n",
    "\n",
    "# Plotting confusion matrices for each model to see how accurate each one was for each class\n",
    "for prediction in ['SVM Pred', 'BERT Pred', \"LinReg Pred\"]:\n",
    "    conf_matrix = confusion_matrix(df['Real Label'], df[prediction])\n",
    "\n",
    "    plt.figure(figsize=(6, 4))\n",
    "    sns.heatmap(conf_matrix, annot=True, fmt='d', cmap='Blues', cbar=False,\n",
    "                xticklabels=['Pred: 0', 'Pred: 1'], yticklabels=['True: 0', 'True: 1'])\n",
    "    plt.show()"
   ]
  },
  {
   "cell_type": "code",
   "execution_count": 209,
   "id": "5e581ab2-f57c-4b77-aee2-3b01f9752ade",
   "metadata": {},
   "outputs": [
    {
     "data": {
      "image/png": "[encoded data removed]",
      "text/plain": [
       "<Figure size 640x480 with 1 Axes>"
      ]
     },
     "metadata": {},
     "output_type": "display_data"
    }
   ],
   "source": [
    "import seaborn as sns\n",
    "import matplotlib.pyplot as plt\n",
    "\n",
    "# Plotting model accuracies for each model\n",
    "model_accuracies = [svm_accuracy, bert_accuracy, lg_accuracy]\n",
    "models = ['SVM', 'BERT', 'Lin. Reg.']\n",
    "\n",
    "combined = pd.DataFrame({'Model': models, 'Accuracy': model_accuracies})\n",
    "\n",
    "sns.barplot(x = 'Model', y = 'Accuracy', \n",
    "            data = combined, palette = sns.color_palette()[3:6], \n",
    "            hue = 'Model').set(title = 'Model Accuracies')\n",
    "\n",
    "plt.savefig(\"model_accuracies_plot.png\")"
   ]
  },
  {
   "cell_type": "code",
   "execution_count": null,
   "id": "1c463ca4-7712-4c9a-aef5-07095c0ea1c0",
   "metadata": {},
   "outputs": [],
   "source": []
  }
 ],
 "metadata": {
  "kernelspec": {
   "display_name": "Python 3 (ipykernel)",
   "language": "python",
   "name": "python3"
  },
  "language_info": {
   "codemirror_mode": {
    "name": "ipython",
    "version": 3
   },
   "file_extension": ".py",
   "mimetype": "text/x-python",
   "name": "python",
   "nbconvert_exporter": "python",
   "pygments_lexer": "ipython3",
   "version": "3.12.4"
  }
 },
 "nbformat": 4,
 "nbformat_minor": 5
}
